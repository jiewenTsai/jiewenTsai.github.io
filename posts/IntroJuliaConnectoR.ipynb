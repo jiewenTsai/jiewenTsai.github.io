{
  "cells": [
    {
      "cell_type": "raw",
      "metadata": {},
      "source": [
        "---\n",
        "title: Introduction to `JuliaConnectoR`\n",
        "author: JT\n",
        "date: '2024-11-19'\n",
        "format:\n",
        "  html:\n",
        "    code-fold: true\n",
        "---"
      ],
      "id": "328cd5bf"
    },
    {
      "cell_type": "markdown",
      "metadata": {},
      "source": [
        "I've just updated my Julia package, `ExtendedRtIrtModeling.jl`, to version 0.2.0. There are a few new features in there that I'll run through in the next few sections.\n",
        "\n",
        "But that's not all! If you're an R user, I'll introduce you to an R package called `JuliaConnectoR` that lets you run Julia programs in R. It'll bridge the two languages seamlessly.\n",
        "\n",
        "## Using in Julia\n"
      ],
      "id": "cc566738"
    },
    {
      "cell_type": "code",
      "metadata": {},
      "source": [
        "using ExtendedRtIrtModleing"
      ],
      "id": "762656f6",
      "execution_count": null,
      "outputs": []
    },
    {
      "cell_type": "markdown",
      "metadata": {},
      "source": [
        "## Using in R\n",
        "\n",
        "\n",
        "```{r}\n",
        "library(JuliaConnectoR)\n",
        "\n",
        "```"
      ],
      "id": "3411ac96"
    }
  ],
  "metadata": {
    "kernelspec": {
      "name": "julia-1.9",
      "language": "julia",
      "display_name": "Julia 1.9.3"
    }
  },
  "nbformat": 4,
  "nbformat_minor": 5
}